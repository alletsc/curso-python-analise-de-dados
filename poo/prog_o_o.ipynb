{
  "nbformat": 4,
  "nbformat_minor": 0,
  "metadata": {
    "colab": {
      "name": "prog_o_o.ipynb",
      "provenance": [],
      "collapsed_sections": []
    },
    "kernelspec": {
      "name": "python3",
      "display_name": "Python 3",
      "language": "python"
    }
  },
  "cells": [
    {
      "cell_type": "markdown",
      "metadata": {
        "id": "M6QhKWHVNf5L"
      },
      "source": [
        "###CLASSE: o objeto elementar.\r\n",
        "- As classes, como tudo mais em py, são objetos de primeira classe, podem ser fornecidas como argumentos de funções, ser elementos de tuplas, se tornar chaves de dicionários, ser atributo de objetos e etc.\r\n",
        "###Sintaxe:\r\n",
        "- Se dá através da palavra `class` \r\n",
        "- Normalmente se usa a primeira letra maisucula em cada classe\r\n",
        "- Definimos uma classe que não faz nada pela palavra `pass`\r\n",
        "`Nome-da_clase(parametro):`\r\n",
        "- A classe recém criada pode   ser instanciada assim: `Nome_da_classe()`\r\n",
        "\r\n"
      ]
    },
    {
      "cell_type": "code",
      "metadata": {
        "colab": {
          "base_uri": "https://localhost:8080/"
        },
        "id": "PaEZ2-ZDTLCn",
        "outputId": "68ecb3fc-17a5-488c-8aa5-131a1a1f83fe"
      },
      "source": [
        "class Cachorros():\r\n",
        "    pass\r\n",
        "\r\n",
        "Cachorros"
      ],
      "execution_count": 2,
      "outputs": [
        {
          "output_type": "execute_result",
          "data": {
            "text/plain": [
              "__main__.Cachorros"
            ]
          },
          "metadata": {
            "tags": []
          },
          "execution_count": 2
        }
      ]
    },
    {
      "cell_type": "markdown",
      "metadata": {
        "id": "y1sRJ9HYbSYT"
      },
      "source": [
        "- Para se fazer referencia a uma instancia criada, atribuimos a instancia a uma variável, no momento de sua criação"
      ]
    },
    {
      "cell_type": "code",
      "metadata": {
        "colab": {
          "base_uri": "https://localhost:8080/"
        },
        "id": "-27NwEVIT9Fo",
        "outputId": "42f8fd3a-8fa7-4f62-821e-2f7ef35c8a9d"
      },
      "source": [
        "Livro1 = Livro()"
      ],
      "execution_count": 13,
      "outputs": [
        {
          "output_type": "stream",
          "text": [
            "Construtor chamado para criar um objeto desta classe.\n"
          ],
          "name": "stdout"
        }
      ]
    },
    {
      "cell_type": "code",
      "metadata": {
        "id": "BC4V0YCpTc21"
      },
      "source": [
        "class Livro():\r\n",
        "    def __init__(self):\r\n",
        "        self.titulo = 'Luciola'\r\n",
        "        self.ident = 9999999887\r\n",
        "        print('Construtor chamado para criar um objeto desta classe.')\r\n",
        "#Métodos são funções, que recebem como parametro atributos do objeto criado\r\n",
        "    def imprime(self):\r\n",
        "        print(f'Foi criado o livro {self.titulo} com identificador: {self.ident}')"
      ],
      "execution_count": 23,
      "outputs": []
    },
    {
      "cell_type": "code",
      "metadata": {
        "colab": {
          "base_uri": "https://localhost:8080/"
        },
        "id": "PiHbyKSHYn-v",
        "outputId": "6f2d28fd-77e0-4305-8a6e-cfd38595ca8d"
      },
      "source": [
        "type(Livro1)"
      ],
      "execution_count": 14,
      "outputs": [
        {
          "output_type": "execute_result",
          "data": {
            "text/plain": [
              "__main__.Livro"
            ]
          },
          "metadata": {
            "tags": []
          },
          "execution_count": 14
        }
      ]
    },
    {
      "cell_type": "code",
      "metadata": {
        "colab": {
          "base_uri": "https://localhost:8080/",
          "height": 35
        },
        "id": "4LJ_Ade1YsOi",
        "outputId": "d4f6d480-bffd-4674-b9ea-b819dc3b693a"
      },
      "source": [
        "Livro1.titulo"
      ],
      "execution_count": 15,
      "outputs": [
        {
          "output_type": "execute_result",
          "data": {
            "application/vnd.google.colaboratory.intrinsic+json": {
              "type": "string"
            },
            "text/plain": [
              "'Luciola'"
            ]
          },
          "metadata": {
            "tags": []
          },
          "execution_count": 15
        },
        {
          "output_type": "execute_result",
          "data": {
            "application/vnd.google.colaboratory.intrinsic+json": {
              "type": "string"
            },
            "text/plain": [
              "'Luciola'"
            ]
          },
          "metadata": {
            "tags": []
          },
          "execution_count": 16
        }
      ]
    },
    {
      "cell_type": "code",
      "metadata": {
        "colab": {
          "base_uri": "https://localhost:8080/"
        },
        "id": "S6K3m1gFYzOo",
        "outputId": "32f098df-58d8-4504-e075-c621ab64d5b0"
      },
      "source": [
        "Livro1.imprime()"
      ],
      "execution_count": 17,
      "outputs": [
        {
          "output_type": "stream",
          "text": [
            "Foi criado o livro Luciola com identificador: 9999999887\n"
          ],
          "name": "stdout"
        }
      ]
    },
    {
      "cell_type": "code",
      "metadata": {
        "colab": {
          "base_uri": "https://localhost:8080/"
        },
        "id": "K7PvT9r8Y3va",
        "outputId": "e8ca8d29-0889-464b-f9a4-caa9409990d8"
      },
      "source": [
        "#exibindo atributos da classe\r\n",
        "dir(Livro)"
      ],
      "execution_count": 19,
      "outputs": [
        {
          "output_type": "execute_result",
          "data": {
            "text/plain": [
              "['__class__',\n",
              " '__delattr__',\n",
              " '__dict__',\n",
              " '__dir__',\n",
              " '__doc__',\n",
              " '__eq__',\n",
              " '__format__',\n",
              " '__ge__',\n",
              " '__getattribute__',\n",
              " '__gt__',\n",
              " '__hash__',\n",
              " '__init__',\n",
              " '__init_subclass__',\n",
              " '__le__',\n",
              " '__lt__',\n",
              " '__module__',\n",
              " '__ne__',\n",
              " '__new__',\n",
              " '__reduce__',\n",
              " '__reduce_ex__',\n",
              " '__repr__',\n",
              " '__setattr__',\n",
              " '__sizeof__',\n",
              " '__str__',\n",
              " '__subclasshook__',\n",
              " '__weakref__',\n",
              " 'imprime']"
            ]
          },
          "metadata": {
            "tags": []
          },
          "execution_count": 19
        }
      ]
    },
    {
      "cell_type": "code",
      "metadata": {
        "colab": {
          "base_uri": "https://localhost:8080/"
        },
        "id": "9YCKWiFqcGdw",
        "outputId": "ec43eeef-bf3f-44af-b14d-73e321ec5d71"
      },
      "source": [
        "class Livro():\r\n",
        "    def __init__(self, titulo, isbn):\r\n",
        "        self.titulo = titulo\r\n",
        "        self.isbn = isbn\r\n",
        "        print(\"Construtor chamado para criar um objeto desta classe\")\r\n",
        "        \r\n",
        "\r\n",
        "    def imprime(self, titulo, isbn):\r\n",
        "        print(f'Este é o livro {titulo} e ISBN: {isbn}')\r\n",
        "\r\n",
        "Livro2 = Livro('Senhora', 12345678)"
      ],
      "execution_count": 37,
      "outputs": [
        {
          "output_type": "stream",
          "text": [
            "Construtor chamado para criar um objeto desta classe\n"
          ],
          "name": "stdout"
        }
      ]
    },
    {
      "cell_type": "code",
      "metadata": {
        "colab": {
          "base_uri": "https://localhost:8080/",
          "height": 35
        },
        "id": "MenZKV8QcpUE",
        "outputId": "742ac23c-060d-4b89-e170-34dda5be9540"
      },
      "source": [
        "Livro2.titulo"
      ],
      "execution_count": 30,
      "outputs": [
        {
          "output_type": "execute_result",
          "data": {
            "application/vnd.google.colaboratory.intrinsic+json": {
              "type": "string"
            },
            "text/plain": [
              "'Senhora'"
            ]
          },
          "metadata": {
            "tags": []
          },
          "execution_count": 30
        }
      ]
    },
    {
      "cell_type": "code",
      "metadata": {
        "colab": {
          "base_uri": "https://localhost:8080/"
        },
        "id": "Me40NgEFc8D_",
        "outputId": "9fce6bfd-fa72-4736-e1a6-98962fdea110"
      },
      "source": [
        "#método do objeto 2\r\n",
        "Livro2.imprime('Senhora', 12345678)"
      ],
      "execution_count": 38,
      "outputs": [
        {
          "output_type": "stream",
          "text": [
            "Este é o livro Senhora e ISBN: 12345678\n"
          ],
          "name": "stdout"
        }
      ]
    },
    {
      "cell_type": "code",
      "metadata": {
        "colab": {
          "base_uri": "https://localhost:8080/"
        },
        "id": "3MoYSL1Oc-q5",
        "outputId": "6299ee0d-2bb0-4824-fb83-9e579dfad519"
      },
      "source": [
        "#Exemplo 2:\r\n",
        "class Cachorro():\r\n",
        "    def __init__(self, raca):\r\n",
        "        self.raca = raca\r\n",
        "        print('Construtor para chamar objeto')\r\n",
        "\r\n",
        "Rex = Cachorro(raca='Labrador')"
      ],
      "execution_count": 39,
      "outputs": [
        {
          "output_type": "stream",
          "text": [
            "Construtor para chamar objeto\n"
          ],
          "name": "stdout"
        }
      ]
    },
    {
      "cell_type": "code",
      "metadata": {
        "colab": {
          "base_uri": "https://localhost:8080/"
        },
        "id": "N2KHxFw1eP57",
        "outputId": "5ed37e01-0de3-4d39-de51-d17397b1c090"
      },
      "source": [
        "Golias = Cachorro(raca='SRD')"
      ],
      "execution_count": 40,
      "outputs": [
        {
          "output_type": "stream",
          "text": [
            "Construtor para chamar objeto\n"
          ],
          "name": "stdout"
        }
      ]
    },
    {
      "cell_type": "code",
      "metadata": {
        "colab": {
          "base_uri": "https://localhost:8080/",
          "height": 35
        },
        "id": "rlG0pwTKehde",
        "outputId": "adac69d9-f7c2-4afa-c854-f85c67dd5bf0"
      },
      "source": [
        "Rex.raca"
      ],
      "execution_count": 44,
      "outputs": [
        {
          "output_type": "execute_result",
          "data": {
            "application/vnd.google.colaboratory.intrinsic+json": {
              "type": "string"
            },
            "text/plain": [
              "'Labrador'"
            ]
          },
          "metadata": {
            "tags": []
          },
          "execution_count": 44
        }
      ]
    },
    {
      "cell_type": "code",
      "metadata": {
        "colab": {
          "base_uri": "https://localhost:8080/",
          "height": 35
        },
        "id": "vxrU2oxBenNI",
        "outputId": "0c785acf-1705-4276-ce11-8769dabee89c"
      },
      "source": [
        "Golias.raca"
      ],
      "execution_count": 45,
      "outputs": [
        {
          "output_type": "execute_result",
          "data": {
            "application/vnd.google.colaboratory.intrinsic+json": {
              "type": "string"
            },
            "text/plain": [
              "'SRD'"
            ]
          },
          "metadata": {
            "tags": []
          },
          "execution_count": 45
        }
      ]
    },
    {
      "cell_type": "markdown",
      "metadata": {
        "id": "7s07IMz7ewov"
      },
      "source": [
        "###OBJETOS:\r\n",
        "- Em py tudo é objeto\r\n"
      ]
    },
    {
      "cell_type": "code",
      "metadata": {
        "colab": {
          "base_uri": "https://localhost:8080/"
        },
        "id": "rolpAYHFe_EX",
        "outputId": "e8b15843-bfd7-45a6-9491-f9336224cf0d"
      },
      "source": [
        "lst_num = ['Py', 'Curso', 'Dados', 'Ciencia', 123, 456, 999, 123]\r\n",
        "\r\n",
        "type(lst_num)"
      ],
      "execution_count": 50,
      "outputs": [
        {
          "output_type": "execute_result",
          "data": {
            "text/plain": [
              "list"
            ]
          },
          "metadata": {
            "tags": []
          },
          "execution_count": 50
        }
      ]
    },
    {
      "cell_type": "code",
      "metadata": {
        "colab": {
          "base_uri": "https://localhost:8080/"
        },
        "id": "q9RP-UmrfQUT",
        "outputId": "e1a13653-6a61-4601-eadb-de458946ec26"
      },
      "source": [
        "lst_num.count(123)"
      ],
      "execution_count": 51,
      "outputs": [
        {
          "output_type": "execute_result",
          "data": {
            "text/plain": [
              "2"
            ]
          },
          "metadata": {
            "tags": []
          },
          "execution_count": 51
        }
      ]
    },
    {
      "cell_type": "code",
      "metadata": {
        "colab": {
          "base_uri": "https://localhost:8080/"
        },
        "id": "krS7S0ORfYhE",
        "outputId": "00ceaa11-6d51-465a-9081-86f1c2116610"
      },
      "source": [
        "print(type(123))\r\n",
        "print(type('Py'))"
      ],
      "execution_count": 52,
      "outputs": [
        {
          "output_type": "stream",
          "text": [
            "<class 'int'>\n",
            "<class 'str'>\n"
          ],
          "name": "stdout"
        }
      ]
    },
    {
      "cell_type": "code",
      "metadata": {
        "colab": {
          "base_uri": "https://localhost:8080/"
        },
        "id": "U8m9ib0VfoB7",
        "outputId": "960dff2c-6f9d-4ef7-c759-6922d5204ace"
      },
      "source": [
        "#Criando um novo objeto\r\n",
        "class Carro():\r\n",
        "    pass\r\n",
        "#Instancia\r\n",
        "palio = Carro()\r\n",
        "print(type(palio))"
      ],
      "execution_count": 54,
      "outputs": [
        {
          "output_type": "stream",
          "text": [
            "<class '__main__.Carro'>\n"
          ],
          "name": "stdout"
        }
      ]
    },
    {
      "cell_type": "code",
      "metadata": {
        "colab": {
          "base_uri": "https://localhost:8080/"
        },
        "id": "lYRF-9tHgADa",
        "outputId": "e45d4ccf-17a4-4140-fc14-5f6d60adb416"
      },
      "source": [
        "class Estudante:\r\n",
        "    def __init__(self, nome, idade, nota):\r\n",
        "        self.nome = nome\r\n",
        "        self.idade = idade\r\n",
        "        self.nota = nota\r\n",
        "\r\n",
        "\r\n",
        "Estudante1 = Estudante('Jhon', 12, 7.1)\r\n",
        "print(Estudante1.nota)\r\n",
        "print(Estudante1.idade)"
      ],
      "execution_count": 57,
      "outputs": [
        {
          "output_type": "stream",
          "text": [
            "7.1\n",
            "12\n"
          ],
          "name": "stdout"
        }
      ]
    },
    {
      "cell_type": "code",
      "metadata": {
        "id": "kVQsk8J3geRj"
      },
      "source": [
        "class Funcionarios():\r\n",
        "    def __init__(self, nome, salario):\r\n",
        "        self.nome = nome\r\n",
        "        self.salario = salario\r\n",
        "\r\n",
        "    def listFunc(self):\r\n",
        "        print(f'Nome: {self.nome} Salario: R${self.salario}')"
      ],
      "execution_count": 60,
      "outputs": []
    },
    {
      "cell_type": "code",
      "metadata": {
        "colab": {
          "base_uri": "https://localhost:8080/"
        },
        "id": "gLYftrHThKF_",
        "outputId": "47d866f5-ee21-4b3b-af63-63838f4836fc"
      },
      "source": [
        "Func1 = Funcionarios('Sthefane', 10000)\r\n",
        "Func1.listFunc()"
      ],
      "execution_count": 62,
      "outputs": [
        {
          "output_type": "stream",
          "text": [
            "Nome: Sthefane Salario: R$10000\n"
          ],
          "name": "stdout"
        }
      ]
    },
    {
      "cell_type": "markdown",
      "metadata": {
        "id": "VafBvFhIhmNc"
      },
      "source": [
        "###Print usando atributos:"
      ]
    },
    {
      "cell_type": "code",
      "metadata": {
        "colab": {
          "base_uri": "https://localhost:8080/"
        },
        "id": "haIx6qOYh4RJ",
        "outputId": "6f0bd0b5-987b-4240-8aa6-b61539bc303b"
      },
      "source": [
        "hasattr(Func1, \"nome\")"
      ],
      "execution_count": 64,
      "outputs": [
        {
          "output_type": "execute_result",
          "data": {
            "text/plain": [
              "True"
            ]
          },
          "metadata": {
            "tags": []
          },
          "execution_count": 64
        }
      ]
    },
    {
      "cell_type": "code",
      "metadata": {
        "colab": {
          "base_uri": "https://localhost:8080/"
        },
        "id": "YbrF6wbYh9xb",
        "outputId": "b16dafa9-acc1-44af-b675-d84a75f1f0b8"
      },
      "source": [
        "setattr(Func1, \"salario\", 4500)\r\n",
        "\r\n",
        "print(hasattr(Func1, \"salario\"))\r\n",
        "print(getattr(Func1, \"salario\"))"
      ],
      "execution_count": 68,
      "outputs": [
        {
          "output_type": "stream",
          "text": [
            "True\n",
            "4500\n"
          ],
          "name": "stdout"
        }
      ]
    },
    {
      "cell_type": "code",
      "metadata": {
        "id": "XD-zg4UQiQYD"
      },
      "source": [
        "delattr(Func1, \"salario\")"
      ],
      "execution_count": 69,
      "outputs": []
    },
    {
      "cell_type": "code",
      "metadata": {
        "colab": {
          "base_uri": "https://localhost:8080/"
        },
        "id": "I6rnSMV3iVTm",
        "outputId": "01b4c25a-7330-467a-fcba-dea4c610c22c"
      },
      "source": [
        "hasattr(Func1, \"salario\")"
      ],
      "execution_count": 70,
      "outputs": [
        {
          "output_type": "execute_result",
          "data": {
            "text/plain": [
              "False"
            ]
          },
          "metadata": {
            "tags": []
          },
          "execution_count": 70
        }
      ]
    },
    {
      "cell_type": "markdown",
      "metadata": {
        "id": "DSpHIn7xisNu"
      },
      "source": [
        "- Atributos são objetos inerentes ás classes, ou seja, comum a todas suas instancias.\r\n",
        "- As caracteristicas que todas as instancias destas classes possuem são seus atributos."
      ]
    },
    {
      "cell_type": "code",
      "metadata": {
        "id": "g5EeapwXi-_W"
      },
      "source": [
        "class Cachorros:\r\n",
        "    cobertura = 'pelos'\r\n",
        "    alimento = 'carne'\r\n",
        "    patas = 4\r\n",
        "    habitat = 'domestico'\r\n",
        "    nome = 'Rex'\r\n",
        "\r\n",
        "\r\n",
        "class Galinhas:\r\n",
        "    cobertura = 'penas'\r\n",
        "    alimento = 'graos'\r\n",
        "    patas = 2\r\n",
        "    habitat = 'domestico'\r\n",
        "    bico = 'pequeno'\r\n"
      ],
      "execution_count": 72,
      "outputs": []
    },
    {
      "cell_type": "code",
      "metadata": {
        "colab": {
          "base_uri": "https://localhost:8080/"
        },
        "id": "9Yvh6I16jTFi",
        "outputId": "c616d377-1d32-44b5-e6d7-92cb087670b0"
      },
      "source": [
        "dir(Galinhas)"
      ],
      "execution_count": 74,
      "outputs": [
        {
          "output_type": "execute_result",
          "data": {
            "text/plain": [
              "['__class__',\n",
              " '__delattr__',\n",
              " '__dict__',\n",
              " '__dir__',\n",
              " '__doc__',\n",
              " '__eq__',\n",
              " '__format__',\n",
              " '__ge__',\n",
              " '__getattribute__',\n",
              " '__gt__',\n",
              " '__hash__',\n",
              " '__init__',\n",
              " '__init_subclass__',\n",
              " '__le__',\n",
              " '__lt__',\n",
              " '__module__',\n",
              " '__ne__',\n",
              " '__new__',\n",
              " '__reduce__',\n",
              " '__reduce_ex__',\n",
              " '__repr__',\n",
              " '__setattr__',\n",
              " '__sizeof__',\n",
              " '__str__',\n",
              " '__subclasshook__',\n",
              " '__weakref__',\n",
              " 'alimento',\n",
              " 'bico',\n",
              " 'cobertura',\n",
              " 'habitat',\n",
              " 'patas']"
            ]
          },
          "metadata": {
            "tags": []
          },
          "execution_count": 74
        }
      ]
    },
    {
      "cell_type": "code",
      "metadata": {
        "colab": {
          "base_uri": "https://localhost:8080/"
        },
        "id": "Zsvqc0YijmVM",
        "outputId": "4ba020b0-d0f6-456a-86a4-e16900aa357b"
      },
      "source": [
        "dir(Cachorros)"
      ],
      "execution_count": 76,
      "outputs": [
        {
          "output_type": "execute_result",
          "data": {
            "text/plain": [
              "['__class__',\n",
              " '__delattr__',\n",
              " '__dict__',\n",
              " '__dir__',\n",
              " '__doc__',\n",
              " '__eq__',\n",
              " '__format__',\n",
              " '__ge__',\n",
              " '__getattribute__',\n",
              " '__gt__',\n",
              " '__hash__',\n",
              " '__init__',\n",
              " '__init_subclass__',\n",
              " '__le__',\n",
              " '__lt__',\n",
              " '__module__',\n",
              " '__ne__',\n",
              " '__new__',\n",
              " '__reduce__',\n",
              " '__reduce_ex__',\n",
              " '__repr__',\n",
              " '__setattr__',\n",
              " '__sizeof__',\n",
              " '__str__',\n",
              " '__subclasshook__',\n",
              " '__weakref__',\n",
              " 'alimento',\n",
              " 'cobertura',\n",
              " 'habitat',\n",
              " 'nome',\n",
              " 'patas']"
            ]
          },
          "metadata": {
            "tags": []
          },
          "execution_count": 76
        }
      ]
    },
    {
      "cell_type": "markdown",
      "metadata": {
        "id": "v8QjP-L9jwKB"
      },
      "source": [
        "Cachorros e Galinhas possuem quatro atributos em comum e dois atributos exclusivos a cada classe (bico, nome). \r\n"
      ]
    },
    {
      "cell_type": "code",
      "metadata": {
        "colab": {
          "base_uri": "https://localhost:8080/"
        },
        "id": "byWGeRwp2Kfw",
        "outputId": "c7612c3b-1662-4835-a31b-060f5bcb1b01"
      },
      "source": [
        "Snoopy = Cachorros()\r\n",
        "Lala = Galinhas()\r\n",
        "\r\n",
        "print(Snoopy.alimento)\r\n",
        "print(Lala.habitat)\r\n",
        "print(f'{Snoopy.nome} late sem parar e come {Snoopy.alimento}')"
      ],
      "execution_count": 81,
      "outputs": [
        {
          "output_type": "stream",
          "text": [
            "carne\n",
            "domestico\n",
            "Rex late sem parar e come carne\n"
          ],
          "name": "stdout"
        }
      ]
    },
    {
      "cell_type": "code",
      "metadata": {
        "colab": {
          "base_uri": "https://localhost:8080/"
        },
        "id": "p-FyQI322YS-",
        "outputId": "a47ffa65-2f19-418d-e6c6-9c0802366f42"
      },
      "source": [
        "hasattr(Cachorros, 'nome')"
      ],
      "execution_count": 83,
      "outputs": [
        {
          "output_type": "execute_result",
          "data": {
            "text/plain": [
              "True"
            ]
          },
          "metadata": {
            "tags": []
          },
          "execution_count": 83
        }
      ]
    },
    {
      "cell_type": "code",
      "metadata": {
        "id": "puW_c6Fi3H3A"
      },
      "source": [
        "setattr(Cachorros, 'nome', 'Snoopy')"
      ],
      "execution_count": 85,
      "outputs": []
    },
    {
      "cell_type": "code",
      "metadata": {
        "colab": {
          "base_uri": "https://localhost:8080/"
        },
        "id": "FFBgvZT-3QRy",
        "outputId": "08fa7ed6-ca53-4613-ee06-5dc227767cfc"
      },
      "source": [
        "print(f'{Cachorros.nome} late sem parar e come {Snoopy.alimento}')"
      ],
      "execution_count": 86,
      "outputs": [
        {
          "output_type": "stream",
          "text": [
            "Snoopy late sem parar e come carne\n"
          ],
          "name": "stdout"
        }
      ]
    },
    {
      "cell_type": "markdown",
      "metadata": {
        "id": "pyClN9F83dJP"
      },
      "source": [
        "###Metodos\r\n",
        "- são funções definidas dentro da classse e, em geral ligadas (bound) a cada instancia da classe."
      ]
    },
    {
      "cell_type": "code",
      "metadata": {
        "id": "v8M3OZfK5Vnu"
      },
      "source": [
        "class Circulo():\r\n",
        "    # O valor de pi é constante\r\n",
        "    pi = 3.14\r\n",
        "\r\n",
        "    # Quando um objeto for criado, este método será executado e o valor default do raio será 5.\r\n",
        "    def __init__(self, raio = 5):\r\n",
        "        self.raio = raio \r\n",
        "\r\n",
        "    # Esse método calcula a área. Self utiliza os atributos deste mesmo objeto\r\n",
        "    def area(self):\r\n",
        "        return (self.raio * self.raio) * Circulo.pi\r\n",
        "\r\n",
        "    # Método para gerar um novo raio\r\n",
        "    def setRaio(self, novo_raio):\r\n",
        "        self.raio = novo_raio\r\n",
        "\r\n",
        "    # Método para obter o raio do círculo\r\n",
        "    def getRaio(self):\r\n",
        "        return self.raio"
      ],
      "execution_count": 1,
      "outputs": []
    },
    {
      "cell_type": "code",
      "execution_count": 2,
      "metadata": {},
      "outputs": [],
      "source": [
        "circ = Circulo()"
      ]
    },
    {
      "cell_type": "code",
      "execution_count": 4,
      "metadata": {},
      "outputs": [
        {
          "output_type": "execute_result",
          "data": {
            "text/plain": [
              "5"
            ]
          },
          "metadata": {},
          "execution_count": 4
        }
      ],
      "source": [
        "circ.getRaio()"
      ]
    },
    {
      "cell_type": "code",
      "execution_count": 8,
      "metadata": {},
      "outputs": [],
      "source": [
        "circ.setRaio(3)"
      ]
    },
    {
      "cell_type": "code",
      "execution_count": 9,
      "metadata": {},
      "outputs": [
        {
          "output_type": "stream",
          "name": "stdout",
          "text": [
            "Novo raio igual 3\n"
          ]
        }
      ],
      "source": [
        "print(f'Novo raio igual {circ.getRaio()}')"
      ]
    },
    {
      "source": [
        "###Herança"
      ],
      "cell_type": "markdown",
      "metadata": {}
    },
    {
      "cell_type": "code",
      "execution_count": 12,
      "metadata": {},
      "outputs": [],
      "source": [
        "#Super Classe\n",
        "class Animal():\n",
        "\n",
        "    def __init__(self):\n",
        "        print('Animal criado')\n",
        "\n",
        "    def Identif(self):\n",
        "        print('Animal')\n",
        "\n",
        "    def comer(self):\n",
        "        print('Comendo')"
      ]
    },
    {
      "cell_type": "code",
      "execution_count": 15,
      "metadata": {},
      "outputs": [],
      "source": [
        "#subclasse\n",
        "class Cachorro(Animal):\n",
        "    def __init__(self):\n",
        "        Animal.__init__(self)\n",
        "        print('Objeto cachorro criado')\n",
        "\n",
        "\n",
        "    def Identif(self):\n",
        "        print(\"Animal\")\n",
        "\n",
        "    def comer(self):\n",
        "        print(\"Comendo\")"
      ]
    },
    {
      "cell_type": "code",
      "execution_count": 16,
      "metadata": {},
      "outputs": [],
      "source": [
        "#subclasse\n",
        "class Cachorro(Animal):\n",
        "    \n",
        "    def __init__(self):\n",
        "        Animal.__init__(self)\n",
        "        print(\"Objeto Cachorro criado\")\n",
        "\n",
        "    def Identif(self):\n",
        "        print(\"Cachorro\")\n",
        "\n",
        "    def latir(self):\n",
        "        print(\"Au Au!\")"
      ]
    },
    {
      "cell_type": "code",
      "execution_count": 17,
      "metadata": {},
      "outputs": [
        {
          "output_type": "stream",
          "name": "stdout",
          "text": [
            "Animal criado\nObjeto Cachorro criado\n"
          ]
        }
      ],
      "source": [
        "rex = Cachorro()"
      ]
    },
    {
      "cell_type": "code",
      "execution_count": 18,
      "metadata": {},
      "outputs": [
        {
          "output_type": "stream",
          "name": "stdout",
          "text": [
            "Comendo\n"
          ]
        }
      ],
      "source": [
        "rex.comer()"
      ]
    },
    {
      "cell_type": "code",
      "execution_count": null,
      "metadata": {},
      "outputs": [],
      "source": []
    }
  ]
}