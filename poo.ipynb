{
  "nbformat": 4,
  "nbformat_minor": 0,
  "metadata": {
    "colab": {
      "name": "poo.ipynb",
      "provenance": [],
      "authorship_tag": "ABX9TyN4xMbBNm5C/q6CziQIrGWs",
      "include_colab_link": true
    },
    "kernelspec": {
      "name": "python3",
      "display_name": "Python 3"
    }
  },
  "cells": [
    {
      "cell_type": "markdown",
      "metadata": {
        "id": "view-in-github",
        "colab_type": "text"
      },
      "source": [
        "<a href=\"https://colab.research.google.com/github/alletsc/curso-python-analise-de-dados/blob/main/poo.ipynb\" target=\"_parent\"><img src=\"https://colab.research.google.com/assets/colab-badge.svg\" alt=\"Open In Colab\"/></a>"
      ]
    },
    {
      "cell_type": "code",
      "metadata": {
        "colab": {
          "base_uri": "https://localhost:8080/"
        },
        "id": "qzaPePoTRa36",
        "outputId": "d753ea08-d50d-413f-e6d0-5a590216a753"
      },
      "source": [
        "class Livro():\r\n",
        "    def __init__(self):\r\n",
        "\r\n",
        "        self.titulo = 'O Monge e o Executivo'\r\n",
        "        self.isbn = 9988888\r\n",
        "        print(\"Construtor chamado para criar um objeto desta classe\")\r\n",
        "           \r\n",
        "    def imprime(self):\r\n",
        "        print(\"Foi criado o livro %s e ISBN %d\" %(self.titulo, self.isbn))\r\n",
        "\r\n",
        "Livro1 = Livro()"
      ],
      "execution_count": 2,
      "outputs": [
        {
          "output_type": "stream",
          "text": [
            "Construtor chamado para criar um objeto desta classe\n"
          ],
          "name": "stdout"
        }
      ]
    },
    {
      "cell_type": "code",
      "metadata": {
        "colab": {
          "base_uri": "https://localhost:8080/"
        },
        "id": "-8AWsvntRghs",
        "outputId": "d3be129c-016f-4360-b857-9f7c07947152"
      },
      "source": [
        "type(Livro1)"
      ],
      "execution_count": 5,
      "outputs": [
        {
          "output_type": "execute_result",
          "data": {
            "text/plain": [
              "__main__.Livro"
            ]
          },
          "metadata": {
            "tags": []
          },
          "execution_count": 5
        }
      ]
    },
    {
      "cell_type": "code",
      "metadata": {
        "colab": {
          "base_uri": "https://localhost:8080/",
          "height": 35
        },
        "id": "M6tVNmSaRlcF",
        "outputId": "02daf24c-33c5-4be9-bf22-c4093acc9976"
      },
      "source": [
        "Livro1.titulo"
      ],
      "execution_count": 6,
      "outputs": [
        {
          "output_type": "execute_result",
          "data": {
            "application/vnd.google.colaboratory.intrinsic+json": {
              "type": "string"
            },
            "text/plain": [
              "'O Monge e o Executivo'"
            ]
          },
          "metadata": {
            "tags": []
          },
          "execution_count": 6
        }
      ]
    },
    {
      "cell_type": "code",
      "metadata": {
        "colab": {
          "base_uri": "https://localhost:8080/"
        },
        "id": "_Yk9HZZqR1D3",
        "outputId": "abe7354e-3388-4ca0-c4b6-1e3039ebeb2f"
      },
      "source": [
        "Livro1.isbn"
      ],
      "execution_count": 7,
      "outputs": [
        {
          "output_type": "execute_result",
          "data": {
            "text/plain": [
              "9988888"
            ]
          },
          "metadata": {
            "tags": []
          },
          "execution_count": 7
        }
      ]
    },
    {
      "cell_type": "code",
      "metadata": {
        "colab": {
          "base_uri": "https://localhost:8080/"
        },
        "id": "zZL8lbzsR4DM",
        "outputId": "04cf99f0-bb5b-4437-b92f-bf30f991d875"
      },
      "source": [
        "Livro1.imprime()"
      ],
      "execution_count": 8,
      "outputs": [
        {
          "output_type": "stream",
          "text": [
            "Foi criado o livro O Monge e o Executivo e ISBN 9988888\n"
          ],
          "name": "stdout"
        }
      ]
    },
    {
      "cell_type": "code",
      "metadata": {
        "id": "vQUhxiljSGSH"
      },
      "source": [
        "class Livro():\r\n",
        "    def __init__ (self,  titulo, isbn):\r\n",
        "        self.titulo = titulo\r\n",
        "        self.isbn = isbn\r\n",
        "        print(\"Construtor\")\r\n",
        "\r\n",
        "    \r\n",
        "    def imprime(self, titulo, isbn):\r\n",
        "        print(f'Este é o livro {titulo} e o ISBN: {isbn}')"
      ],
      "execution_count": 13,
      "outputs": []
    },
    {
      "cell_type": "code",
      "metadata": {
        "colab": {
          "base_uri": "https://localhost:8080/"
        },
        "id": "YYnbruyySzZf",
        "outputId": "352ec2a2-3c06-45a4-8b29-988b34f47e99"
      },
      "source": [
        "Livro2 = Livro(\"Luciola\", 2234)"
      ],
      "execution_count": 14,
      "outputs": [
        {
          "output_type": "stream",
          "text": [
            "Construtor\n"
          ],
          "name": "stdout"
        }
      ]
    },
    {
      "cell_type": "code",
      "metadata": {
        "colab": {
          "base_uri": "https://localhost:8080/",
          "height": 35
        },
        "id": "wijJDIbzS4x5",
        "outputId": "7e9d7660-30ec-484d-b3b6-c6e868fb86f7"
      },
      "source": [
        "Livro2.titulo"
      ],
      "execution_count": 15,
      "outputs": [
        {
          "output_type": "execute_result",
          "data": {
            "application/vnd.google.colaboratory.intrinsic+json": {
              "type": "string"
            },
            "text/plain": [
              "'Luciola'"
            ]
          },
          "metadata": {
            "tags": []
          },
          "execution_count": 15
        }
      ]
    },
    {
      "cell_type": "code",
      "metadata": {
        "id": "DjvNkPFYTHDE"
      },
      "source": [
        "class Cachorro():\r\n",
        "    def __init__(self,  raca):\r\n",
        "        self.raca = raca\r\n",
        "        \r\n",
        "\r\n",
        "\r\n",
        "Rex = Cachorro(raca ='Labrador')\r\n",
        "Golias = Cachorro(raca='Buskie')"
      ],
      "execution_count": 30,
      "outputs": []
    },
    {
      "cell_type": "code",
      "metadata": {
        "colab": {
          "base_uri": "https://localhost:8080/",
          "height": 35
        },
        "id": "xLb8ZO5WTh7W",
        "outputId": "745fcc30-7c6f-44e8-8d29-7bf372b61558"
      },
      "source": [
        "Rex.raca"
      ],
      "execution_count": 31,
      "outputs": [
        {
          "output_type": "execute_result",
          "data": {
            "application/vnd.google.colaboratory.intrinsic+json": {
              "type": "string"
            },
            "text/plain": [
              "'Labrador'"
            ]
          },
          "metadata": {
            "tags": []
          },
          "execution_count": 31
        }
      ]
    },
    {
      "cell_type": "code",
      "metadata": {
        "colab": {
          "base_uri": "https://localhost:8080/",
          "height": 35
        },
        "id": "jDa-N7BNUFSk",
        "outputId": "10f8d8f6-b481-4c0b-fa20-f31594a638a0"
      },
      "source": [
        "Golias.raca"
      ],
      "execution_count": 32,
      "outputs": [
        {
          "output_type": "execute_result",
          "data": {
            "application/vnd.google.colaboratory.intrinsic+json": {
              "type": "string"
            },
            "text/plain": [
              "'Buskie'"
            ]
          },
          "metadata": {
            "tags": []
          },
          "execution_count": 32
        }
      ]
    },
    {
      "cell_type": "markdown",
      "metadata": {
        "id": "R9C219ZOUG26"
      },
      "source": [
        "###Objetos"
      ]
    },
    {
      "cell_type": "code",
      "metadata": {
        "id": "P-AUis4XUblF"
      },
      "source": [
        "lst = ['Curso', 'Data', 'Nota', 'Ano', 2021]"
      ],
      "execution_count": 33,
      "outputs": []
    },
    {
      "cell_type": "code",
      "metadata": {
        "colab": {
          "base_uri": "https://localhost:8080/"
        },
        "id": "glHKzJFtUlqW",
        "outputId": "7e1a1ae7-5327-4ac2-823a-a988dd93b470"
      },
      "source": [
        "lst.count(2021)"
      ],
      "execution_count": 36,
      "outputs": [
        {
          "output_type": "execute_result",
          "data": {
            "text/plain": [
              "1"
            ]
          },
          "metadata": {
            "tags": []
          },
          "execution_count": 36
        }
      ]
    },
    {
      "cell_type": "code",
      "metadata": {
        "colab": {
          "base_uri": "https://localhost:8080/"
        },
        "id": "SaJLMeldUqOe",
        "outputId": "694b4bf4-dd67-4bbe-ca96-adc0dd742461"
      },
      "source": [
        "print(type(2021))\r\n",
        "print(type([]))\r\n",
        "print(type({}))"
      ],
      "execution_count": 40,
      "outputs": [
        {
          "output_type": "stream",
          "text": [
            "<class 'int'>\n",
            "<class 'list'>\n",
            "<class 'dict'>\n"
          ],
          "name": "stdout"
        }
      ]
    },
    {
      "cell_type": "code",
      "metadata": {
        "colab": {
          "base_uri": "https://localhost:8080/"
        },
        "id": "CrVxf-J5UyxC",
        "outputId": "b0ec3751-3d2e-489c-9ef1-48eef0d1816b"
      },
      "source": [
        "#criando um novo  tipo de objeto: Carro\r\n",
        "class Carro(object):\r\n",
        "    pass\r\n",
        "\r\n",
        "palio = Carro()\r\n",
        "print(type(palio))"
      ],
      "execution_count": 42,
      "outputs": [
        {
          "output_type": "stream",
          "text": [
            "<class '__main__.Carro'>\n"
          ],
          "name": "stdout"
        }
      ]
    },
    {
      "cell_type": "code",
      "metadata": {
        "id": "BfsAcmNOVC5Q"
      },
      "source": [
        "class Estudantes():\r\n",
        "    def __init__ (self, nome, idade, nota):\r\n",
        "        self.nome = nome\r\n",
        "        self.idade = idade\r\n",
        "        self.nota = nota\r\n",
        "\r\n",
        "\r\n",
        "Estudante1 = Estudantes('Josi', 32, 10)\r\n"
      ],
      "execution_count": 46,
      "outputs": []
    },
    {
      "cell_type": "code",
      "metadata": {
        "colab": {
          "base_uri": "https://localhost:8080/"
        },
        "id": "Ild682CJVul5",
        "outputId": "11b31e76-275f-4706-a42a-187ede103655"
      },
      "source": [
        "Estudante1.idade"
      ],
      "execution_count": 47,
      "outputs": [
        {
          "output_type": "execute_result",
          "data": {
            "text/plain": [
              "32"
            ]
          },
          "metadata": {
            "tags": []
          },
          "execution_count": 47
        }
      ]
    },
    {
      "cell_type": "code",
      "metadata": {
        "id": "prZtSc21V1iy"
      },
      "source": [
        "class Funcionario():\r\n",
        "    def __init__ (self, nome, salario):\r\n",
        "        self.nome = nome\r\n",
        "        self.salario = salario\r\n",
        "\r\n",
        "\r\n",
        "    def listFunc(self):\r\n",
        "        print(f'O nome do funcionario é {self.nome} e o salario é  R${self.salario}')"
      ],
      "execution_count": 53,
      "outputs": []
    },
    {
      "cell_type": "code",
      "metadata": {
        "colab": {
          "base_uri": "https://localhost:8080/"
        },
        "id": "ctp-4ehlWYgH",
        "outputId": "cbf6dca2-ff58-4182-8b2b-2f387ef9048d"
      },
      "source": [
        "Func1 = Funcionario(\"Obama\", 20000)\r\n",
        "Func1.listFunc()"
      ],
      "execution_count": 54,
      "outputs": [
        {
          "output_type": "stream",
          "text": [
            "O nome do funcionario é Obama e o salario é  R$20000\n"
          ],
          "name": "stdout"
        }
      ]
    },
    {
      "cell_type": "markdown",
      "metadata": {
        "id": "gDb4p9DvWeQ2"
      },
      "source": [
        "###Atributos"
      ]
    },
    {
      "cell_type": "code",
      "metadata": {
        "colab": {
          "base_uri": "https://localhost:8080/"
        },
        "id": "ed1sK-BjW5YH",
        "outputId": "7b3d5810-ef96-4c18-b0e7-bc929466722c"
      },
      "source": [
        "hasattr(Func1, 'salario')"
      ],
      "execution_count": 55,
      "outputs": [
        {
          "output_type": "execute_result",
          "data": {
            "text/plain": [
              "True"
            ]
          },
          "metadata": {
            "tags": []
          },
          "execution_count": 55
        }
      ]
    },
    {
      "cell_type": "code",
      "metadata": {
        "id": "PS-hgK-6XHBa"
      },
      "source": [
        "setattr(Func1, 'salario', 500)"
      ],
      "execution_count": 56,
      "outputs": []
    },
    {
      "cell_type": "code",
      "metadata": {
        "colab": {
          "base_uri": "https://localhost:8080/"
        },
        "id": "5T2cXe15XY9f",
        "outputId": "a1b115e9-0191-4579-d0cd-8779c6116c5f"
      },
      "source": [
        "getattr(Func1, 'salario')"
      ],
      "execution_count": 58,
      "outputs": [
        {
          "output_type": "execute_result",
          "data": {
            "text/plain": [
              "500"
            ]
          },
          "metadata": {
            "tags": []
          },
          "execution_count": 58
        }
      ]
    },
    {
      "cell_type": "code",
      "metadata": {
        "id": "TWruko9GXd5w"
      },
      "source": [
        "delattr(Func1, 'salario')"
      ],
      "execution_count": 59,
      "outputs": []
    },
    {
      "cell_type": "code",
      "metadata": {
        "colab": {
          "base_uri": "https://localhost:8080/"
        },
        "id": "GHulYGcIXm_R",
        "outputId": "2242339f-e8e5-46d2-91fe-d4e9f425aaf2"
      },
      "source": [
        "hasattr(Func1, 'salario')"
      ],
      "execution_count": 60,
      "outputs": [
        {
          "output_type": "execute_result",
          "data": {
            "text/plain": [
              "False"
            ]
          },
          "metadata": {
            "tags": []
          },
          "execution_count": 60
        }
      ]
    },
    {
      "cell_type": "markdown",
      "metadata": {
        "id": "WyAWqt22Xq84"
      },
      "source": [
        "###Metodos\r\n",
        "- Basicamente funçoes atribuidas no corpo de uma classe para manipular os objetos criados a partir da classe\r\n"
      ]
    },
    {
      "cell_type": "code",
      "metadata": {
        "id": "Ad2J_KsAX2eC"
      },
      "source": [
        "class Cir():\r\n",
        "    pi = 3.14\r\n",
        "\r\n",
        "    #metodos\r\n",
        "    def __init__(self, raio = 5):\r\n",
        "        self.raio = raio\r\n",
        "\r\n",
        "\r\n",
        "    def area(self):\r\n",
        "        return (self.raio ** 2) *Circulo.pi\r\n",
        "\r\n",
        "\r\n",
        "    def setRaio(self, novoraio):\r\n",
        "        self.raio = novoraio\r\n",
        "\r\n",
        "\r\n",
        "    def getRaio(self):\r\n",
        "        return self.raio"
      ],
      "execution_count": 65,
      "outputs": []
    },
    {
      "cell_type": "code",
      "metadata": {
        "colab": {
          "base_uri": "https://localhost:8080/"
        },
        "id": "Bi4k2VDOZsPZ",
        "outputId": "535ac142-de0e-42b9-bfb7-9d4499bc70c6"
      },
      "source": [
        "circ = Cir()\r\n",
        "circ.getRaio()"
      ],
      "execution_count": 67,
      "outputs": [
        {
          "output_type": "execute_result",
          "data": {
            "text/plain": [
              "5"
            ]
          },
          "metadata": {
            "tags": []
          },
          "execution_count": 67
        }
      ]
    },
    {
      "cell_type": "code",
      "metadata": {
        "id": "lXRQZwBpaimF"
      },
      "source": [
        ""
      ],
      "execution_count": null,
      "outputs": []
    }
  ]
}