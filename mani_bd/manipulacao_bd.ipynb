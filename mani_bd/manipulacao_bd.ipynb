{
  "nbformat": 4,
  "nbformat_minor": 0,
  "metadata": {
    "colab": {
      "name": "manipulacao_bd.ipynb",
      "provenance": []
    },
    "kernelspec": {
      "name": "python3",
      "display_name": "Python 3"
    }
  },
  "cells": [
    {
      "cell_type": "markdown",
      "metadata": {
        "id": "dZsxXCmOyszG"
      },
      "source": [
        "SQLite"
      ]
    },
    {
      "cell_type": "code",
      "metadata": {
        "id": "6E5wB0hCxsqJ"
      },
      "source": [
        "import os\r\n",
        "os.remove(\"escola.db\") if os.path.exists(\"escola.db\") else None\r\n",
        "\r\n",
        "import sqlite3"
      ],
      "execution_count": 1,
      "outputs": []
    },
    {
      "cell_type": "code",
      "metadata": {
        "id": "O9kpAQj2zUGZ"
      },
      "source": [
        "#criando conexão com db # cria caso não exista\r\n",
        "con = sqlite3.connect(\"escola.db\")"
      ],
      "execution_count": 2,
      "outputs": []
    },
    {
      "cell_type": "code",
      "metadata": {
        "colab": {
          "base_uri": "https://localhost:8080/"
        },
        "id": "T4u7vIyGzfBy",
        "outputId": "0d5d4835-3d90-4545-b32e-a5c387b21734"
      },
      "source": [
        "type(con)"
      ],
      "execution_count": 3,
      "outputs": [
        {
          "output_type": "execute_result",
          "data": {
            "text/plain": [
              "sqlite3.Connection"
            ]
          },
          "metadata": {
            "tags": []
          },
          "execution_count": 3
        }
      ]
    },
    {
      "cell_type": "code",
      "metadata": {
        "colab": {
          "base_uri": "https://localhost:8080/"
        },
        "id": "v-svhNPkzgZx",
        "outputId": "4d10c612-356e-4515-de73-dcbe4e27b736"
      },
      "source": [
        "#criando cursor para percorrer os registros em um conjunto de dados\r\n",
        "cur = con.cursor()\r\n",
        "type(cur)"
      ],
      "execution_count": 4,
      "outputs": [
        {
          "output_type": "execute_result",
          "data": {
            "text/plain": [
              "sqlite3.Cursor"
            ]
          },
          "metadata": {
            "tags": []
          },
          "execution_count": 4
        }
      ]
    },
    {
      "cell_type": "code",
      "metadata": {
        "id": "7ixM1bSIzsc-"
      },
      "source": [
        "#criar instrução sql - DDL\r\n",
        "sql_create = 'create table cursos '\\\r\n",
        "'(id integer primary key, '\\\r\n",
        "'titulo varchar(100),'\\\r\n",
        "'categoria varchar(140))'"
      ],
      "execution_count": 14,
      "outputs": []
    },
    {
      "cell_type": "code",
      "metadata": {
        "colab": {
          "base_uri": "https://localhost:8080/"
        },
        "id": "4jHign051LYs",
        "outputId": "2a9e7fa2-2ccc-4f0f-9369-df16b6381afb"
      },
      "source": [
        "#executando instrução sql no cursor \r\n",
        "cur.execute(sql_create)"
      ],
      "execution_count": 15,
      "outputs": [
        {
          "output_type": "execute_result",
          "data": {
            "text/plain": [
              "<sqlite3.Cursor at 0x7f1da57b8b20>"
            ]
          },
          "metadata": {
            "tags": []
          },
          "execution_count": 15
        }
      ]
    },
    {
      "cell_type": "code",
      "metadata": {
        "id": "6s9UpGtu1YGK"
      },
      "source": [
        "#criando outra sentença sql paara inserir registros\r\n",
        "sql_insert = 'insert into cursos values (?, ?, ?)'"
      ],
      "execution_count": 16,
      "outputs": []
    },
    {
      "cell_type": "code",
      "metadata": {
        "id": "9ioaXxxR17FJ"
      },
      "source": [
        "#dados - lista composta por tupla\r\n",
        "recset = [(1000, 'Ciência de Dados', 'Data Science'),\r\n",
        "          (1001, 'Big Data Fundamentos', 'Big Data'),\r\n",
        "          (1002, 'Python Fundamentos', 'Análise de Dados')]"
      ],
      "execution_count": 17,
      "outputs": []
    },
    {
      "cell_type": "code",
      "metadata": {
        "id": "qL_-r3T82USj"
      },
      "source": [
        "# inserindo os registros\r\n",
        "for rec in recset:\r\n",
        "    cur.execute(sql_insert, rec)"
      ],
      "execution_count": 18,
      "outputs": []
    },
    {
      "cell_type": "code",
      "metadata": {
        "id": "FeXZUGxe2gIX"
      },
      "source": [
        "#gravar\r\n",
        "con.commit()"
      ],
      "execution_count": 19,
      "outputs": []
    },
    {
      "cell_type": "code",
      "metadata": {
        "id": "Hrwkce742j2x"
      },
      "source": [
        "sql_select = 'select * from cursos'"
      ],
      "execution_count": 21,
      "outputs": []
    },
    {
      "cell_type": "code",
      "metadata": {
        "id": "c0zMHjgF23q6"
      },
      "source": [
        "#seleciona todos os registros e reccupera\r\n",
        "cur.execute(sql_select)\r\n",
        "dados = cur.fetchall()"
      ],
      "execution_count": 22,
      "outputs": []
    },
    {
      "cell_type": "code",
      "metadata": {
        "colab": {
          "base_uri": "https://localhost:8080/"
        },
        "id": "PGKXYYst3Byn",
        "outputId": "eb1fd06f-19c5-4353-8927-d394549a988c"
      },
      "source": [
        "#print\r\n",
        "for linha in dados:\r\n",
        "    print ('Curso Id: %d, Título: %s, Categoria: %s \\n' % linha)"
      ],
      "execution_count": 23,
      "outputs": [
        {
          "output_type": "stream",
          "text": [
            "Curso Id: 1000, Título: Ciência de Dados, Categoria: Data Science \n",
            "\n",
            "Curso Id: 1001, Título: Big Data Fundamentos, Categoria: Big Data \n",
            "\n",
            "Curso Id: 1002, Título: Python Fundamentos, Categoria: Análise de Dados \n",
            "\n"
          ],
          "name": "stdout"
        }
      ]
    },
    {
      "cell_type": "code",
      "metadata": {
        "colab": {
          "base_uri": "https://localhost:8080/"
        },
        "id": "JR9XydWY3yM3",
        "outputId": "2843ea6f-5d10-4faa-b2d4-222e3595b182"
      },
      "source": [
        "con.close"
      ],
      "execution_count": 27,
      "outputs": [
        {
          "output_type": "execute_result",
          "data": {
            "text/plain": [
              "<function Connection.close>"
            ]
          },
          "metadata": {
            "tags": []
          },
          "execution_count": 27
        }
      ]
    },
    {
      "cell_type": "markdown",
      "metadata": {
        "id": "uAwwgar64cAS"
      },
      "source": [
        "Opção: sqlitebrowser\r\n"
      ]
    }
  ]
}