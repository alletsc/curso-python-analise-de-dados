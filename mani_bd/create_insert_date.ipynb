{
  "nbformat": 4,
  "nbformat_minor": 0,
  "metadata": {
    "colab": {
      "name": "create_insert_date.ipynb",
      "provenance": []
    },
    "kernelspec": {
      "name": "python3",
      "display_name": "Python 3"
    }
  },
  "cells": [
    {
      "cell_type": "code",
      "metadata": {
        "id": "n9TeeIgv5DVm"
      },
      "source": [
        "#verificando a  existencia e excluindo para evitar conflitos\r\n",
        "import os \r\n",
        "os.remove(\"dsa.db\") if os.path.exists(\"dsa.db\") else None"
      ],
      "execution_count": 1,
      "outputs": []
    },
    {
      "cell_type": "code",
      "metadata": {
        "id": "_j3ndXvP4xNo"
      },
      "source": [
        "import sqlite3\r\n",
        "#criando a conexão\r\n",
        "conn = sqlite3.connect('dsa.db')\r\n",
        "#cursor\r\n",
        "c = conn.cursor()\r\n",
        "\r\n",
        "#funcao criar a tabela\r\n",
        "def create_table():\r\n",
        "    c.execute('CREATE TABLE IF NOT EXISTS produtos(id INTEGER PRIMARY KEY AUTOINCREMENT NOT NULL, date TEXT, '\\\r\n",
        "              'prod_name TEXT, valor REAL)')\r\n",
        "    \r\n",
        "#função para inserir linha\r\n",
        "def data_insert():\r\n",
        "    c.execute(\"INSERT INTO produtos VALUES(10, '2020-05-02 14:32:11', 'Teclado', 90 )\")\r\n",
        "    conn.commit()\r\n",
        "    c.close()\r\n",
        "    conn.close()"
      ],
      "execution_count": 9,
      "outputs": []
    },
    {
      "cell_type": "code",
      "metadata": {
        "id": "AyaYzGx56CKE"
      },
      "source": [
        "create_table()"
      ],
      "execution_count": 10,
      "outputs": []
    },
    {
      "cell_type": "code",
      "metadata": {
        "id": "b_PnrC4i7Ufx"
      },
      "source": [
        "data_insert()"
      ],
      "execution_count": 12,
      "outputs": []
    },
    {
      "cell_type": "code",
      "metadata": {
        "id": "-zxmj3wF7VTl"
      },
      "source": [
        ""
      ],
      "execution_count": null,
      "outputs": []
    }
  ]
}